{
  "nbformat": 4,
  "nbformat_minor": 0,
  "metadata": {
    "colab": {
      "name": "ann and cnn.ipynb",
      "provenance": [],
      "authorship_tag": "ABX9TyMy8M7MBzBibO0lSOY6hMh5",
      "include_colab_link": true
    },
    "kernelspec": {
      "name": "python3",
      "display_name": "Python 3"
    },
    "language_info": {
      "name": "python"
    }
  },
  "cells": [
    {
      "cell_type": "markdown",
      "metadata": {
        "id": "view-in-github",
        "colab_type": "text"
      },
      "source": [
        "<a href=\"https://colab.research.google.com/github/RAHUL-B-PILLAI/coursework_heart_disease_pridiction/blob/main/ann_and_cnn.ipynb\" target=\"_parent\"><img src=\"https://colab.research.google.com/assets/colab-badge.svg\" alt=\"Open In Colab\"/></a>"
      ]
    },
    {
      "cell_type": "markdown",
      "metadata": {
        "id": "VXX98B_4ke_A"
      },
      "source": [
        "Linear classifier(Perceptron)"
      ]
    },
    {
      "cell_type": "code",
      "metadata": {
        "id": "juffm3NFfeYE"
      },
      "source": [
        "import numpy as np\n",
        "import pandas as pd\n",
        "import seaborn as sns\n",
        "import matplotlib.pyplot as plt\n"
      ],
      "execution_count": 2,
      "outputs": []
    },
    {
      "cell_type": "code",
      "metadata": {
        "colab": {
          "resources": {
            "http://localhost:8080/nbextensions/google.colab/files.js": {
              "data": "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",
              "ok": true,
              "headers": [
                [
                  "content-type",
                  "application/javascript"
                ]
              ],
              "status": 200,
              "status_text": ""
            }
          },
          "base_uri": "https://localhost:8080/",
          "height": 73
        },
        "id": "aGrxV8nnoxBZ",
        "outputId": "0e8ec758-073b-4678-8dfc-2f8bef9ced7a"
      },
      "source": [
        "from google.colab import files\n",
        "upload= files.upload()"
      ],
      "execution_count": 1,
      "outputs": [
        {
          "output_type": "display_data",
          "data": {
            "text/html": [
              "\n",
              "     <input type=\"file\" id=\"files-b110ef6c-47bb-428a-b459-aead3c269e74\" name=\"files[]\" multiple disabled\n",
              "        style=\"border:none\" />\n",
              "     <output id=\"result-b110ef6c-47bb-428a-b459-aead3c269e74\">\n",
              "      Upload widget is only available when the cell has been executed in the\n",
              "      current browser session. Please rerun this cell to enable.\n",
              "      </output>\n",
              "      <script src=\"/nbextensions/google.colab/files.js\"></script> "
            ],
            "text/plain": [
              "<IPython.core.display.HTML object>"
            ]
          },
          "metadata": {}
        },
        {
          "output_type": "stream",
          "name": "stdout",
          "text": [
            "Saving heart.csv to heart.csv\n"
          ]
        }
      ]
    },
    {
      "cell_type": "code",
      "metadata": {
        "colab": {
          "base_uri": "https://localhost:8080/",
          "height": 226
        },
        "id": "5LRGZyU6oxLz",
        "outputId": "95106584-d08e-4025-8352-4f7670893d8c"
      },
      "source": [
        "# Using pands to read csv file\n",
        "data=pd.read_csv('heart.csv')\n",
        "data.head()"
      ],
      "execution_count": 3,
      "outputs": [
        {
          "output_type": "execute_result",
          "data": {
            "text/html": [
              "<div>\n",
              "<style scoped>\n",
              "    .dataframe tbody tr th:only-of-type {\n",
              "        vertical-align: middle;\n",
              "    }\n",
              "\n",
              "    .dataframe tbody tr th {\n",
              "        vertical-align: top;\n",
              "    }\n",
              "\n",
              "    .dataframe thead th {\n",
              "        text-align: right;\n",
              "    }\n",
              "</style>\n",
              "<table border=\"1\" class=\"dataframe\">\n",
              "  <thead>\n",
              "    <tr style=\"text-align: right;\">\n",
              "      <th></th>\n",
              "      <th>Age</th>\n",
              "      <th>Sex</th>\n",
              "      <th>ChestPainType</th>\n",
              "      <th>RestingBP</th>\n",
              "      <th>Cholesterol</th>\n",
              "      <th>FastingBS</th>\n",
              "      <th>RestingECG</th>\n",
              "      <th>MaxHR</th>\n",
              "      <th>ExerciseAngina</th>\n",
              "      <th>Oldpeak</th>\n",
              "      <th>ST_Slope</th>\n",
              "      <th>HeartDisease</th>\n",
              "    </tr>\n",
              "  </thead>\n",
              "  <tbody>\n",
              "    <tr>\n",
              "      <th>0</th>\n",
              "      <td>40</td>\n",
              "      <td>M</td>\n",
              "      <td>ATA</td>\n",
              "      <td>140</td>\n",
              "      <td>289</td>\n",
              "      <td>0</td>\n",
              "      <td>Normal</td>\n",
              "      <td>172</td>\n",
              "      <td>N</td>\n",
              "      <td>0.0</td>\n",
              "      <td>Up</td>\n",
              "      <td>0</td>\n",
              "    </tr>\n",
              "    <tr>\n",
              "      <th>1</th>\n",
              "      <td>49</td>\n",
              "      <td>F</td>\n",
              "      <td>NAP</td>\n",
              "      <td>160</td>\n",
              "      <td>180</td>\n",
              "      <td>0</td>\n",
              "      <td>Normal</td>\n",
              "      <td>156</td>\n",
              "      <td>N</td>\n",
              "      <td>1.0</td>\n",
              "      <td>Flat</td>\n",
              "      <td>1</td>\n",
              "    </tr>\n",
              "    <tr>\n",
              "      <th>2</th>\n",
              "      <td>37</td>\n",
              "      <td>M</td>\n",
              "      <td>ATA</td>\n",
              "      <td>130</td>\n",
              "      <td>283</td>\n",
              "      <td>0</td>\n",
              "      <td>ST</td>\n",
              "      <td>98</td>\n",
              "      <td>N</td>\n",
              "      <td>0.0</td>\n",
              "      <td>Up</td>\n",
              "      <td>0</td>\n",
              "    </tr>\n",
              "    <tr>\n",
              "      <th>3</th>\n",
              "      <td>48</td>\n",
              "      <td>F</td>\n",
              "      <td>ASY</td>\n",
              "      <td>138</td>\n",
              "      <td>214</td>\n",
              "      <td>0</td>\n",
              "      <td>Normal</td>\n",
              "      <td>108</td>\n",
              "      <td>Y</td>\n",
              "      <td>1.5</td>\n",
              "      <td>Flat</td>\n",
              "      <td>1</td>\n",
              "    </tr>\n",
              "    <tr>\n",
              "      <th>4</th>\n",
              "      <td>54</td>\n",
              "      <td>M</td>\n",
              "      <td>NAP</td>\n",
              "      <td>150</td>\n",
              "      <td>195</td>\n",
              "      <td>0</td>\n",
              "      <td>Normal</td>\n",
              "      <td>122</td>\n",
              "      <td>N</td>\n",
              "      <td>0.0</td>\n",
              "      <td>Up</td>\n",
              "      <td>0</td>\n",
              "    </tr>\n",
              "  </tbody>\n",
              "</table>\n",
              "</div>"
            ],
            "text/plain": [
              "   Age Sex ChestPainType  ...  Oldpeak  ST_Slope  HeartDisease\n",
              "0   40   M           ATA  ...      0.0        Up             0\n",
              "1   49   F           NAP  ...      1.0      Flat             1\n",
              "2   37   M           ATA  ...      0.0        Up             0\n",
              "3   48   F           ASY  ...      1.5      Flat             1\n",
              "4   54   M           NAP  ...      0.0        Up             0\n",
              "\n",
              "[5 rows x 12 columns]"
            ]
          },
          "metadata": {},
          "execution_count": 3
        }
      ]
    },
    {
      "cell_type": "code",
      "metadata": {
        "colab": {
          "base_uri": "https://localhost:8080/",
          "height": 289
        },
        "id": "KGQyR7xfoxUG",
        "outputId": "be44087c-c9c9-4a98-ad68-05ded0b41a7f"
      },
      "source": [
        "# preprocessing the dataset  \n",
        "from sklearn import preprocessing\n",
        "label= preprocessing.LabelEncoder()\n",
        "data1=data.copy()\n",
        "for i in data.columns[data1.dtypes=='object']:\n",
        "  data1[i]=label.fit_transform(data[i])\n",
        "data1.tail(7)"
      ],
      "execution_count": 4,
      "outputs": [
        {
          "output_type": "execute_result",
          "data": {
            "text/html": [
              "<div>\n",
              "<style scoped>\n",
              "    .dataframe tbody tr th:only-of-type {\n",
              "        vertical-align: middle;\n",
              "    }\n",
              "\n",
              "    .dataframe tbody tr th {\n",
              "        vertical-align: top;\n",
              "    }\n",
              "\n",
              "    .dataframe thead th {\n",
              "        text-align: right;\n",
              "    }\n",
              "</style>\n",
              "<table border=\"1\" class=\"dataframe\">\n",
              "  <thead>\n",
              "    <tr style=\"text-align: right;\">\n",
              "      <th></th>\n",
              "      <th>Age</th>\n",
              "      <th>Sex</th>\n",
              "      <th>ChestPainType</th>\n",
              "      <th>RestingBP</th>\n",
              "      <th>Cholesterol</th>\n",
              "      <th>FastingBS</th>\n",
              "      <th>RestingECG</th>\n",
              "      <th>MaxHR</th>\n",
              "      <th>ExerciseAngina</th>\n",
              "      <th>Oldpeak</th>\n",
              "      <th>ST_Slope</th>\n",
              "      <th>HeartDisease</th>\n",
              "    </tr>\n",
              "  </thead>\n",
              "  <tbody>\n",
              "    <tr>\n",
              "      <th>911</th>\n",
              "      <td>59</td>\n",
              "      <td>1</td>\n",
              "      <td>0</td>\n",
              "      <td>164</td>\n",
              "      <td>176</td>\n",
              "      <td>1</td>\n",
              "      <td>0</td>\n",
              "      <td>90</td>\n",
              "      <td>0</td>\n",
              "      <td>1.0</td>\n",
              "      <td>1</td>\n",
              "      <td>1</td>\n",
              "    </tr>\n",
              "    <tr>\n",
              "      <th>912</th>\n",
              "      <td>57</td>\n",
              "      <td>0</td>\n",
              "      <td>0</td>\n",
              "      <td>140</td>\n",
              "      <td>241</td>\n",
              "      <td>0</td>\n",
              "      <td>1</td>\n",
              "      <td>123</td>\n",
              "      <td>1</td>\n",
              "      <td>0.2</td>\n",
              "      <td>1</td>\n",
              "      <td>1</td>\n",
              "    </tr>\n",
              "    <tr>\n",
              "      <th>913</th>\n",
              "      <td>45</td>\n",
              "      <td>1</td>\n",
              "      <td>3</td>\n",
              "      <td>110</td>\n",
              "      <td>264</td>\n",
              "      <td>0</td>\n",
              "      <td>1</td>\n",
              "      <td>132</td>\n",
              "      <td>0</td>\n",
              "      <td>1.2</td>\n",
              "      <td>1</td>\n",
              "      <td>1</td>\n",
              "    </tr>\n",
              "    <tr>\n",
              "      <th>914</th>\n",
              "      <td>68</td>\n",
              "      <td>1</td>\n",
              "      <td>0</td>\n",
              "      <td>144</td>\n",
              "      <td>193</td>\n",
              "      <td>1</td>\n",
              "      <td>1</td>\n",
              "      <td>141</td>\n",
              "      <td>0</td>\n",
              "      <td>3.4</td>\n",
              "      <td>1</td>\n",
              "      <td>1</td>\n",
              "    </tr>\n",
              "    <tr>\n",
              "      <th>915</th>\n",
              "      <td>57</td>\n",
              "      <td>1</td>\n",
              "      <td>0</td>\n",
              "      <td>130</td>\n",
              "      <td>131</td>\n",
              "      <td>0</td>\n",
              "      <td>1</td>\n",
              "      <td>115</td>\n",
              "      <td>1</td>\n",
              "      <td>1.2</td>\n",
              "      <td>1</td>\n",
              "      <td>1</td>\n",
              "    </tr>\n",
              "    <tr>\n",
              "      <th>916</th>\n",
              "      <td>57</td>\n",
              "      <td>0</td>\n",
              "      <td>1</td>\n",
              "      <td>130</td>\n",
              "      <td>236</td>\n",
              "      <td>0</td>\n",
              "      <td>0</td>\n",
              "      <td>174</td>\n",
              "      <td>0</td>\n",
              "      <td>0.0</td>\n",
              "      <td>1</td>\n",
              "      <td>1</td>\n",
              "    </tr>\n",
              "    <tr>\n",
              "      <th>917</th>\n",
              "      <td>38</td>\n",
              "      <td>1</td>\n",
              "      <td>2</td>\n",
              "      <td>138</td>\n",
              "      <td>175</td>\n",
              "      <td>0</td>\n",
              "      <td>1</td>\n",
              "      <td>173</td>\n",
              "      <td>0</td>\n",
              "      <td>0.0</td>\n",
              "      <td>2</td>\n",
              "      <td>0</td>\n",
              "    </tr>\n",
              "  </tbody>\n",
              "</table>\n",
              "</div>"
            ],
            "text/plain": [
              "     Age  Sex  ChestPainType  ...  Oldpeak  ST_Slope  HeartDisease\n",
              "911   59    1              0  ...      1.0         1             1\n",
              "912   57    0              0  ...      0.2         1             1\n",
              "913   45    1              3  ...      1.2         1             1\n",
              "914   68    1              0  ...      3.4         1             1\n",
              "915   57    1              0  ...      1.2         1             1\n",
              "916   57    0              1  ...      0.0         1             1\n",
              "917   38    1              2  ...      0.0         2             0\n",
              "\n",
              "[7 rows x 12 columns]"
            ]
          },
          "metadata": {},
          "execution_count": 4
        }
      ]
    },
    {
      "cell_type": "code",
      "metadata": {
        "id": "3ALjzIeboxjy"
      },
      "source": [
        "X,Y=data1.iloc[:,:-1].values,data1.iloc[:,-1].values"
      ],
      "execution_count": 5,
      "outputs": []
    },
    {
      "cell_type": "code",
      "metadata": {
        "id": "2GMAoMj5oxpo"
      },
      "source": [
        "from sklearn.model_selection import train_test_split \n",
        "from sklearn import metrics\n",
        "from sklearn.metrics import classification_report\n",
        "from sklearn.metrics import accuracy_score"
      ],
      "execution_count": 6,
      "outputs": []
    },
    {
      "cell_type": "code",
      "metadata": {
        "id": "ZZzQ4i6_oxvM"
      },
      "source": [
        "x_train,x_test,y_train,y_test = train_test_split(X,Y,train_size=0.80,random_state=45)"
      ],
      "execution_count": 7,
      "outputs": []
    },
    {
      "cell_type": "code",
      "metadata": {
        "id": "0gFDAmkkoxdM"
      },
      "source": [
        "from sklearn.linear_model import Perceptron"
      ],
      "execution_count": 9,
      "outputs": []
    },
    {
      "cell_type": "code",
      "metadata": {
        "colab": {
          "base_uri": "https://localhost:8080/"
        },
        "id": "rMWzfwyDoxzg",
        "outputId": "edb4a564-794f-4a40-a1d9-b6ac0e392b2c"
      },
      "source": [
        "lcp = Perceptron(eta0=0.1)\n",
        "lcp.fit(x_train,y_train)"
      ],
      "execution_count": 19,
      "outputs": [
        {
          "output_type": "execute_result",
          "data": {
            "text/plain": [
              "Perceptron(eta0=0.1)"
            ]
          },
          "metadata": {},
          "execution_count": 19
        }
      ]
    },
    {
      "cell_type": "code",
      "metadata": {
        "colab": {
          "base_uri": "https://localhost:8080/"
        },
        "id": "r3Tex6Drox4T",
        "outputId": "6a1212d6-fd1d-4a46-ee7f-540342253f72"
      },
      "source": [
        "ytrain_pred=lcp.predict(x_train)\n",
        "accuracy_score(ytrain_pred,y_train)"
      ],
      "execution_count": 20,
      "outputs": [
        {
          "output_type": "execute_result",
          "data": {
            "text/plain": [
              "0.5694822888283378"
            ]
          },
          "metadata": {},
          "execution_count": 20
        }
      ]
    },
    {
      "cell_type": "code",
      "metadata": {
        "colab": {
          "base_uri": "https://localhost:8080/",
          "height": 317
        },
        "id": "4rsDa3tVoyBd",
        "outputId": "136a14a0-ac36-4955-f5db-802c68bddb04"
      },
      "source": [
        "from sklearn.metrics import roc_auc_score\n",
        "from sklearn.metrics import roc_curve\n",
        "\n",
        "\n",
        "auc=roc_auc_score(y_train,ytrain_pred)\n",
        "fpr,tpr,threshold=roc_curve(y_train,ytrain_pred)\n",
        "plt.plot([0,1],[0,1],linestyle=\"--\")\n",
        "plt.plot(fpr,tpr,color=\"red\")\n",
        "plt.xlabel('False Positive Rate')\n",
        "plt.ylabel('True Positive Rate')\n",
        "plt.title('Linear Classifier  ROC Curve', size =20)"
      ],
      "execution_count": 21,
      "outputs": [
        {
          "output_type": "execute_result",
          "data": {
            "text/plain": [
              "Text(0.5, 1.0, 'Linear Classifier  ROC Curve')"
            ]
          },
          "metadata": {},
          "execution_count": 21
        },
        {
          "output_type": "display_data",
          "data": {
            "image/png": "[encoded data removed]",
            "text/plain": [
              "<Figure size 432x288 with 1 Axes>"
            ]
          },
          "metadata": {
            "needs_background": "light"
          }
        }
      ]
    },
    {
      "cell_type": "code",
      "metadata": {
        "colab": {
          "base_uri": "https://localhost:8080/"
        },
        "id": "fxls6QEduLzz",
        "outputId": "92a6a7aa-af79-4df6-cedf-f15d335c2b45"
      },
      "source": [
        "ytest_pred=lcp.predict(x_test)\n",
        "accuracy_score(ytest_pred,y_test)"
      ],
      "execution_count": 22,
      "outputs": [
        {
          "output_type": "execute_result",
          "data": {
            "text/plain": [
              "0.592391304347826"
            ]
          },
          "metadata": {},
          "execution_count": 22
        }
      ]
    },
    {
      "cell_type": "code",
      "metadata": {
        "colab": {
          "base_uri": "https://localhost:8080/",
          "height": 317
        },
        "id": "AGrXxisNoyFx",
        "outputId": "41bee83f-9675-4f62-fc5f-5c5e2ccdef62"
      },
      "source": [
        "from sklearn.metrics import roc_auc_score\n",
        "from sklearn.metrics import roc_curve\n",
        "\n",
        "\n",
        "auc=roc_auc_score(y_train,ytrain_pred)\n",
        "fpr,tpr,threshold=roc_curve(y_train,ytrain_pred)\n",
        "plt.plot([0,1],[0,1],linestyle=\"--\")\n",
        "plt.plot(fpr,tpr,color=\"red\")\n",
        "plt.xlabel('False Positive Rate')\n",
        "plt.ylabel('True Positive Rate')\n",
        "plt.title('Linear Classifier  ROC Curve', size =20)"
      ],
      "execution_count": 23,
      "outputs": [
        {
          "output_type": "execute_result",
          "data": {
            "text/plain": [
              "Text(0.5, 1.0, 'Linear Classifier  ROC Curve')"
            ]
          },
          "metadata": {},
          "execution_count": 23
        },
        {
          "output_type": "display_data",
          "data": {
            "image/png": "[encoded data removed]",
            "text/plain": [
              "<Figure size 432x288 with 1 Axes>"
            ]
          },
          "metadata": {
            "needs_background": "light"
          }
        }
      ]
    },
    {
      "cell_type": "markdown",
      "metadata": {
        "id": "DtnpNtgnujH4"
      },
      "source": [
        "Linear classifer (Logistic Regression)"
      ]
    },
    {
      "cell_type": "code",
      "metadata": {
        "colab": {
          "base_uri": "https://localhost:8080/"
        },
        "id": "A1f0lyh7oyKB",
        "outputId": "ebcf0157-cabe-4a70-c50e-167ab52de221"
      },
      "source": [
        "from sklearn.linear_model import LogisticRegression\n",
        "\n",
        "# fit a model\n",
        "lr = LogisticRegression(solver='lbfgs', max_iter=1000)\n",
        "lr.fit(x_train,y_train)\n",
        "# predict probabilities\n"
      ],
      "execution_count": 37,
      "outputs": [
        {
          "output_type": "execute_result",
          "data": {
            "text/plain": [
              "LogisticRegression(max_iter=1000)"
            ]
          },
          "metadata": {},
          "execution_count": 37
        }
      ]
    },
    {
      "cell_type": "code",
      "metadata": {
        "colab": {
          "base_uri": "https://localhost:8080/"
        },
        "id": "_709bidsw18s",
        "outputId": "f0ad663f-2499-4f25-d27a-33e43e3ba349"
      },
      "source": [
        "ytrain_pred=lr.predict(x_train)\n",
        "accuracy_score(ytrain_pred,y_train)"
      ],
      "execution_count": 38,
      "outputs": [
        {
          "output_type": "execute_result",
          "data": {
            "text/plain": [
              "0.8528610354223434"
            ]
          },
          "metadata": {},
          "execution_count": 38
        }
      ]
    },
    {
      "cell_type": "code",
      "metadata": {
        "colab": {
          "base_uri": "https://localhost:8080/"
        },
        "id": "zoCSrjSpw2J2",
        "outputId": "eb5e921a-0658-4bbe-e58b-27c039998912"
      },
      "source": [
        "ytest_pred=lr.predict(x_test)\n",
        "accuracy_score(ytest_pred,y_test)"
      ],
      "execution_count": 39,
      "outputs": [
        {
          "output_type": "execute_result",
          "data": {
            "text/plain": [
              "0.842391304347826"
            ]
          },
          "metadata": {},
          "execution_count": 39
        }
      ]
    },
    {
      "cell_type": "markdown",
      "metadata": {
        "id": "wMpBxXAf0ot1"
      },
      "source": [
        "Neural Network"
      ]
    },
    {
      "cell_type": "code",
      "metadata": {
        "id": "-XkdTsaNw2CK"
      },
      "source": [
        "from keras.wrappers.scikit_learn import KerasClassifier\n",
        "from keras.utils import np_utils\n",
        "\n",
        "# for modeling\n",
        "from keras.models import Sequential\n",
        "from keras.layers import Dense, Dropout\n",
        "from keras.callbacks import EarlyStopping"
      ],
      "execution_count": 41,
      "outputs": []
    },
    {
      "cell_type": "code",
      "metadata": {
        "colab": {
          "base_uri": "https://localhost:8080/"
        },
        "id": "LgsJwwBXw2RW",
        "outputId": "3cba1a9c-e7cd-41d4-c88b-8d1c8858d4d1"
      },
      "source": [
        "# build a model\n",
        "model = Sequential()\n",
        "model.add(Dense(16, input_shape=(X.shape[1],), activation='relu')) # Add an input shape! (features,)\n",
        "model.add(Dense(16, activation='relu'))\n",
        "model.add(Dense(1, activation='sigmoid'))\n",
        "model.summary() \n",
        "\n",
        "# compile the model\n",
        "model.compile(optimizer='Adam', \n",
        "              loss='binary_crossentropy',\n",
        "              metrics=['accuracy'])\n",
        "\n",
        "# early stopping callback\n",
        "# This callback will stop the training when there is no improvement in  \n",
        "# the validation loss for 10 consecutive epochs.  \n",
        "es = EarlyStopping(monitor='val_accuracy', \n",
        "                                   mode='max', # don't minimize the accuracy!\n",
        "                                   patience=10,\n",
        "                                   restore_best_weights=True)\n",
        "\n",
        "# now we just update our model fit call\n",
        "history = model.fit(x_train,\n",
        "                    y_train,\n",
        "                    callbacks=[es],\n",
        "                    epochs=80, # you can set this to a big number!\n",
        "                    batch_size=10,\n",
        "                    validation_split=0.2,\n",
        "                    shuffle=True,\n",
        "                    verbose=1)"
      ],
      "execution_count": 59,
      "outputs": [
        {
          "output_type": "stream",
          "name": "stdout",
          "text": [
            "Model: \"sequential_2\"\n",
            "_________________________________________________________________\n",
            " Layer (type)                Output Shape              Param #   \n",
            "=================================================================\n",
            " dense_6 (Dense)             (None, 16)                192       \n",
            "                                                                 \n",
            " dense_7 (Dense)             (None, 16)                272       \n",
            "                                                                 \n",
            " dense_8 (Dense)             (None, 1)                 17        \n",
            "                                                                 \n",
            "=================================================================\n",
            "Total params: 481\n",
            "Trainable params: 481\n",
            "Non-trainable params: 0\n",
            "_________________________________________________________________\n",
            "Epoch 1/80\n",
            "59/59 [==============================] - 1s 4ms/step - loss: 3.6139 - accuracy: 0.4957 - val_loss: 1.2388 - val_accuracy: 0.6531\n",
            "Epoch 2/80\n",
            "59/59 [==============================] - 0s 2ms/step - loss: 1.2164 - accuracy: 0.6627 - val_loss: 1.0543 - val_accuracy: 0.6735\n",
            "Epoch 3/80\n",
            "59/59 [==============================] - 0s 2ms/step - loss: 1.0398 - accuracy: 0.6371 - val_loss: 0.8908 - val_accuracy: 0.6871\n",
            "Epoch 4/80\n",
            "59/59 [==============================] - 0s 2ms/step - loss: 0.9008 - accuracy: 0.6712 - val_loss: 0.7491 - val_accuracy: 0.7483\n",
            "Epoch 5/80\n",
            "59/59 [==============================] - 0s 2ms/step - loss: 0.7696 - accuracy: 0.6780 - val_loss: 0.6682 - val_accuracy: 0.7891\n",
            "Epoch 6/80\n",
            "59/59 [==============================] - 0s 2ms/step - loss: 0.7391 - accuracy: 0.7002 - val_loss: 0.5630 - val_accuracy: 0.8163\n",
            "Epoch 7/80\n",
            "59/59 [==============================] - 0s 2ms/step - loss: 0.7597 - accuracy: 0.6831 - val_loss: 0.5512 - val_accuracy: 0.7619\n",
            "Epoch 8/80\n",
            "59/59 [==============================] - 0s 2ms/step - loss: 0.6288 - accuracy: 0.7240 - val_loss: 0.4392 - val_accuracy: 0.8163\n",
            "Epoch 9/80\n",
            "59/59 [==============================] - 0s 2ms/step - loss: 0.5616 - accuracy: 0.7462 - val_loss: 0.4098 - val_accuracy: 0.8163\n",
            "Epoch 10/80\n",
            "59/59 [==============================] - 0s 2ms/step - loss: 0.5514 - accuracy: 0.7700 - val_loss: 0.5964 - val_accuracy: 0.7551\n",
            "Epoch 11/80\n",
            "59/59 [==============================] - 0s 2ms/step - loss: 0.5297 - accuracy: 0.7785 - val_loss: 0.3781 - val_accuracy: 0.8231\n",
            "Epoch 12/80\n",
            "59/59 [==============================] - 0s 2ms/step - loss: 0.5333 - accuracy: 0.7530 - val_loss: 0.3681 - val_accuracy: 0.8367\n",
            "Epoch 13/80\n",
            "59/59 [==============================] - 0s 2ms/step - loss: 0.4728 - accuracy: 0.7973 - val_loss: 0.3875 - val_accuracy: 0.8231\n",
            "Epoch 14/80\n",
            "59/59 [==============================] - 0s 2ms/step - loss: 0.4540 - accuracy: 0.8177 - val_loss: 0.4762 - val_accuracy: 0.7959\n",
            "Epoch 15/80\n",
            "59/59 [==============================] - 0s 2ms/step - loss: 0.4417 - accuracy: 0.8126 - val_loss: 0.4855 - val_accuracy: 0.7823\n",
            "Epoch 16/80\n",
            "59/59 [==============================] - 0s 2ms/step - loss: 0.4742 - accuracy: 0.7939 - val_loss: 0.3543 - val_accuracy: 0.8095\n",
            "Epoch 17/80\n",
            "59/59 [==============================] - 0s 2ms/step - loss: 0.4568 - accuracy: 0.8075 - val_loss: 0.3962 - val_accuracy: 0.8163\n",
            "Epoch 18/80\n",
            "59/59 [==============================] - 0s 2ms/step - loss: 0.4524 - accuracy: 0.8092 - val_loss: 0.5078 - val_accuracy: 0.7755\n",
            "Epoch 19/80\n",
            "59/59 [==============================] - 0s 2ms/step - loss: 0.4219 - accuracy: 0.8433 - val_loss: 0.3924 - val_accuracy: 0.8027\n",
            "Epoch 20/80\n",
            "59/59 [==============================] - 0s 2ms/step - loss: 0.4273 - accuracy: 0.8348 - val_loss: 0.3799 - val_accuracy: 0.8095\n",
            "Epoch 21/80\n",
            "59/59 [==============================] - 0s 2ms/step - loss: 0.4232 - accuracy: 0.8262 - val_loss: 0.3759 - val_accuracy: 0.8435\n",
            "Epoch 22/80\n",
            "59/59 [==============================] - 0s 2ms/step - loss: 0.4185 - accuracy: 0.8313 - val_loss: 0.3755 - val_accuracy: 0.8435\n",
            "Epoch 23/80\n",
            "59/59 [==============================] - 0s 2ms/step - loss: 0.4773 - accuracy: 0.7922 - val_loss: 0.4929 - val_accuracy: 0.7891\n",
            "Epoch 24/80\n",
            "59/59 [==============================] - 0s 2ms/step - loss: 0.4681 - accuracy: 0.8109 - val_loss: 0.3978 - val_accuracy: 0.8231\n",
            "Epoch 25/80\n",
            "59/59 [==============================] - 0s 2ms/step - loss: 0.4164 - accuracy: 0.8296 - val_loss: 0.3992 - val_accuracy: 0.8435\n",
            "Epoch 26/80\n",
            "59/59 [==============================] - 0s 3ms/step - loss: 0.4270 - accuracy: 0.8109 - val_loss: 0.4202 - val_accuracy: 0.7959\n",
            "Epoch 27/80\n",
            "59/59 [==============================] - 0s 2ms/step - loss: 0.4242 - accuracy: 0.8228 - val_loss: 0.3960 - val_accuracy: 0.8367\n",
            "Epoch 28/80\n",
            "59/59 [==============================] - 0s 2ms/step - loss: 0.4081 - accuracy: 0.8399 - val_loss: 0.4243 - val_accuracy: 0.7959\n",
            "Epoch 29/80\n",
            "59/59 [==============================] - 0s 2ms/step - loss: 0.4728 - accuracy: 0.8143 - val_loss: 0.4602 - val_accuracy: 0.8299\n",
            "Epoch 30/80\n",
            "59/59 [==============================] - 0s 2ms/step - loss: 0.4940 - accuracy: 0.8109 - val_loss: 0.3708 - val_accuracy: 0.8231\n",
            "Epoch 31/80\n",
            "59/59 [==============================] - 0s 2ms/step - loss: 0.4024 - accuracy: 0.8348 - val_loss: 0.4047 - val_accuracy: 0.8095\n"
          ]
        }
      ]
    },
    {
      "cell_type": "code",
      "metadata": {
        "colab": {
          "base_uri": "https://localhost:8080/",
          "height": 312
        },
        "id": "VQzL8Lf-7C7C",
        "outputId": "2c81ff4c-3c01-412e-dc4a-a65faac63b04"
      },
      "source": [
        "# Learning curve(accuracy)\n",
        "# let's see the training and validation accuracy by epoch\n",
        "\n",
        "# accuracy\n",
        "acc = history.history['accuracy']\n",
        "val_acc = history.history['val_accuracy']\n",
        "\n",
        "# range of X (no. of epochs)\n",
        "epochs = range(1, len(acc) + 1)\n",
        "\n",
        "# plot\n",
        "# \"bo\" is for \"blue dot\"\n",
        "plt.plot(epochs, acc, 'bo', label='Training accuracy')\n",
        "# orange is for \"orange\"\n",
        "plt.plot(epochs, val_acc, 'orange', label='Validation accuracy')\n",
        "plt.title('Training and validation accuracy')\n",
        "plt.xlabel('Epochs')\n",
        "plt.ylabel('Accuracy')\n",
        "plt.legend()\n",
        "plt.show()\n",
        "\n",
        "# this is the max value - should correspond to\n",
        "# the HIGHEST train accuracy\n",
        "np.max(val_acc)"
      ],
      "execution_count": 60,
      "outputs": [
        {
          "output_type": "display_data",
          "data": {
            "image/png": "[encoded data removed]",
            "text/plain": [
              "<Figure size 432x288 with 1 Axes>"
            ]
          },
          "metadata": {
            "needs_background": "light"
          }
        },
        {
          "output_type": "execute_result",
          "data": {
            "text/plain": [
              "0.8435373902320862"
            ]
          },
          "metadata": {},
          "execution_count": 60
        }
      ]
    },
    {
      "cell_type": "code",
      "metadata": {
        "colab": {
          "base_uri": "https://localhost:8080/"
        },
        "id": "n59sST5x7DAq",
        "outputId": "0573aaad-a14b-4d05-cbbb-65e71d2881e7"
      },
      "source": [
        "from sklearn.metrics import classification_report\n",
        "preds = np.round(model.predict(X),0)\n",
        "\n",
        "print(classification_report(Y, preds))"
      ],
      "execution_count": 61,
      "outputs": [
        {
          "output_type": "stream",
          "name": "stdout",
          "text": [
            "              precision    recall  f1-score   support\n",
            "\n",
            "           0       0.79      0.88      0.83       410\n",
            "           1       0.89      0.81      0.85       508\n",
            "\n",
            "    accuracy                           0.84       918\n",
            "   macro avg       0.84      0.84      0.84       918\n",
            "weighted avg       0.85      0.84      0.84       918\n",
            "\n"
          ]
        }
      ]
    },
    {
      "cell_type": "code",
      "metadata": {
        "colab": {
          "base_uri": "https://localhost:8080/"
        },
        "id": "UhXDvF79_ybr",
        "outputId": "1e299599-c279-487b-8189-e4f15bdd5375"
      },
      "source": [
        "# build a model\n",
        "model = Sequential()\n",
        "model.add(Dense(50, input_shape=(X.shape[1],), activation='relu')) # Add an input shape! (features,)\n",
        "model.add(Dense(50, activation='relu'))\n",
        "model.add(Dense(50, activation='relu'))\n",
        "model.add(Dense(1, activation='sigmoid'))\n",
        "model.summary() \n",
        "\n",
        "# compile the model\n",
        "model.compile(optimizer='Adam', \n",
        "              loss='binary_crossentropy',\n",
        "              metrics=['accuracy'])\n",
        "\n",
        "# early stopping callback\n",
        "# This callback will stop the training when there is no improvement in  \n",
        "# the validation loss for 10 consecutive epochs.  \n",
        "es = EarlyStopping(monitor='val_accuracy', \n",
        "                                   mode='max', # don't minimize the accuracy!\n",
        "                                   patience=10,\n",
        "                                   restore_best_weights=True)\n",
        "\n",
        "# now we just update our model fit call\n",
        "history = model.fit(x_train,\n",
        "                    y_train,\n",
        "                    callbacks=[es],\n",
        "                    epochs=80, # you can set this to a big number!\n",
        "                    batch_size=10,\n",
        "                    validation_split=0.2,\n",
        "                    shuffle=True,\n",
        "                    verbose=1)"
      ],
      "execution_count": 65,
      "outputs": [
        {
          "output_type": "stream",
          "name": "stdout",
          "text": [
            "Model: \"sequential_4\"\n",
            "_________________________________________________________________\n",
            " Layer (type)                Output Shape              Param #   \n",
            "=================================================================\n",
            " dense_13 (Dense)            (None, 50)                600       \n",
            "                                                                 \n",
            " dense_14 (Dense)            (None, 50)                2550      \n",
            "                                                                 \n",
            " dense_15 (Dense)            (None, 50)                2550      \n",
            "                                                                 \n",
            " dense_16 (Dense)            (None, 1)                 51        \n",
            "                                                                 \n",
            "=================================================================\n",
            "Total params: 5,751\n",
            "Trainable params: 5,751\n",
            "Non-trainable params: 0\n",
            "_________________________________________________________________\n",
            "Epoch 1/80\n",
            "59/59 [==============================] - 1s 5ms/step - loss: 1.0795 - accuracy: 0.6167 - val_loss: 0.6554 - val_accuracy: 0.7075\n",
            "Epoch 2/80\n",
            "59/59 [==============================] - 0s 3ms/step - loss: 0.5846 - accuracy: 0.7257 - val_loss: 0.5511 - val_accuracy: 0.6735\n",
            "Epoch 3/80\n",
            "59/59 [==============================] - 0s 3ms/step - loss: 0.6164 - accuracy: 0.6865 - val_loss: 0.5959 - val_accuracy: 0.6735\n",
            "Epoch 4/80\n",
            "59/59 [==============================] - 0s 3ms/step - loss: 0.6813 - accuracy: 0.6951 - val_loss: 0.5929 - val_accuracy: 0.6939\n",
            "Epoch 5/80\n",
            "59/59 [==============================] - 0s 3ms/step - loss: 0.5788 - accuracy: 0.7206 - val_loss: 0.4829 - val_accuracy: 0.7755\n",
            "Epoch 6/80\n",
            "59/59 [==============================] - 0s 3ms/step - loss: 0.5883 - accuracy: 0.7172 - val_loss: 0.5227 - val_accuracy: 0.8231\n",
            "Epoch 7/80\n",
            "59/59 [==============================] - 0s 3ms/step - loss: 0.5933 - accuracy: 0.7206 - val_loss: 0.5020 - val_accuracy: 0.7551\n",
            "Epoch 8/80\n",
            "59/59 [==============================] - 0s 3ms/step - loss: 0.5877 - accuracy: 0.7428 - val_loss: 0.5524 - val_accuracy: 0.7143\n",
            "Epoch 9/80\n",
            "59/59 [==============================] - 0s 3ms/step - loss: 0.5010 - accuracy: 0.7768 - val_loss: 0.4417 - val_accuracy: 0.8027\n",
            "Epoch 10/80\n",
            "59/59 [==============================] - 0s 3ms/step - loss: 0.4956 - accuracy: 0.7564 - val_loss: 0.4835 - val_accuracy: 0.7823\n",
            "Epoch 11/80\n",
            "59/59 [==============================] - 0s 3ms/step - loss: 0.5820 - accuracy: 0.7325 - val_loss: 0.4287 - val_accuracy: 0.8095\n",
            "Epoch 12/80\n",
            "59/59 [==============================] - 0s 3ms/step - loss: 0.4836 - accuracy: 0.7853 - val_loss: 0.4306 - val_accuracy: 0.8163\n",
            "Epoch 13/80\n",
            "59/59 [==============================] - 0s 2ms/step - loss: 0.4521 - accuracy: 0.8058 - val_loss: 0.4317 - val_accuracy: 0.8163\n",
            "Epoch 14/80\n",
            "59/59 [==============================] - 0s 3ms/step - loss: 0.4754 - accuracy: 0.7751 - val_loss: 0.4866 - val_accuracy: 0.7959\n",
            "Epoch 15/80\n",
            "59/59 [==============================] - 0s 3ms/step - loss: 0.4468 - accuracy: 0.8024 - val_loss: 0.4225 - val_accuracy: 0.8231\n",
            "Epoch 16/80\n",
            "59/59 [==============================] - 0s 3ms/step - loss: 0.4215 - accuracy: 0.8245 - val_loss: 0.4543 - val_accuracy: 0.8027\n"
          ]
        }
      ]
    },
    {
      "cell_type": "code",
      "metadata": {
        "colab": {
          "base_uri": "https://localhost:8080/",
          "height": 312
        },
        "id": "k_K1Q0VM_ykI",
        "outputId": "0b883721-9f39-4645-c7d6-be7d84bdb177"
      },
      "source": [
        "# Learning curve(accuracy)\n",
        "# let's see the training and validation accuracy by epoch\n",
        "\n",
        "# accuracy\n",
        "acc = history.history['accuracy']\n",
        "val_acc = history.history['val_accuracy']\n",
        "\n",
        "# range of X (no. of epochs)\n",
        "epochs = range(1, len(acc) + 1)\n",
        "\n",
        "# plot\n",
        "# \"bo\" is for \"blue dot\"\n",
        "plt.plot(epochs, acc, 'bo', label='Training accuracy')\n",
        "# orange is for \"orange\"\n",
        "plt.plot(epochs, val_acc, 'orange', label='Validation accuracy')\n",
        "plt.title('Training and validation accuracy')\n",
        "plt.xlabel('Epochs')\n",
        "plt.ylabel('Accuracy')\n",
        "plt.legend()\n",
        "plt.show()\n",
        "\n",
        "# this is the max value - should correspond to\n",
        "# the HIGHEST train accuracy\n",
        "np.max(val_acc)"
      ],
      "execution_count": 66,
      "outputs": [
        {
          "output_type": "display_data",
          "data": {
            "image/png": "[encoded data removed]",
            "text/plain": [
              "<Figure size 432x288 with 1 Axes>"
            ]
          },
          "metadata": {
            "needs_background": "light"
          }
        },
        {
          "output_type": "execute_result",
          "data": {
            "text/plain": [
              "0.8231292366981506"
            ]
          },
          "metadata": {},
          "execution_count": 66
        }
      ]
    },
    {
      "cell_type": "code",
      "metadata": {
        "colab": {
          "base_uri": "https://localhost:8080/"
        },
        "id": "HNSbkEIC_yrI",
        "outputId": "31c8772b-2ad4-4b54-c721-552c2cb52170"
      },
      "source": [
        "from sklearn.metrics import classification_report\n",
        "preds = np.round(model.predict(X),0)\n",
        "\n",
        "print(classification_report(Y, preds))"
      ],
      "execution_count": 67,
      "outputs": [
        {
          "output_type": "stream",
          "name": "stdout",
          "text": [
            "              precision    recall  f1-score   support\n",
            "\n",
            "           0       0.77      0.78      0.77       410\n",
            "           1       0.82      0.81      0.81       508\n",
            "\n",
            "    accuracy                           0.80       918\n",
            "   macro avg       0.79      0.80      0.79       918\n",
            "weighted avg       0.80      0.80      0.80       918\n",
            "\n"
          ]
        }
      ]
    },
    {
      "cell_type": "code",
      "metadata": {
        "id": "T0aIKUZR_yyR"
      },
      "source": [
        ""
      ],
      "execution_count": null,
      "outputs": []
    },
    {
      "cell_type": "code",
      "metadata": {
        "id": "sVVizoKD_y6S"
      },
      "source": [
        ""
      ],
      "execution_count": null,
      "outputs": []
    }
  ]
}